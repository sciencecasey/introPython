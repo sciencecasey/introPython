{
 "cells": [
  {
   "cell_type": "code",
   "execution_count": 11,
   "id": "caroline-exploration",
   "metadata": {},
   "outputs": [],
   "source": [
    "import pandas as pd\n",
    "import numpy as np\n",
    "import networkx as nx\n",
    "from itertools import combinations"
   ]
  },
  {
   "cell_type": "code",
   "execution_count": 2,
   "id": "humanitarian-copyright",
   "metadata": {},
   "outputs": [],
   "source": [
    "filepaths = [\"ivy_league.txt\", \"mlb.txt\", \"potter.txt\", \"world_cup.txt\"]"
   ]
  },
  {
   "cell_type": "code",
   "execution_count": 3,
   "id": "thousand-offer",
   "metadata": {},
   "outputs": [
    {
     "name": "stdout",
     "output_type": "stream",
     "text": [
      "['Brown', '44', '51', '9', '0', '0', '0', '0', '0', '0', '0', '9']\n",
      "['Columbia', '44', '51', '9', '0', '0', '0', '0', '0', '0', '0', '9']\n",
      "['Cornell', '44', '51', '9', '0', '0', '0', '0', '0', '0', '0', '9']\n",
      "['Dartmouth', '44', '51', '9', '0', '0', '0', '0', '0', '0', '0', '9']\n",
      "['Penn', '44', '51', '9', '0', '0', '0', '0', '0', '0', '0', '9']\n",
      "['Harvard', '43', '60', '1', '0', '0', '0', '0', '0', '0', '1', '0']\n",
      "['Yale', '43', '60', '1', '0', '0', '0', '0', '0', '1', '0', '0']\n",
      "['Princeton', '0', '59', '45', '9', '9', '9', '9', '9', '0', '0', '0']\n"
     ]
    }
   ],
   "source": [
    "file = open(filepaths[0])\n",
    "times = int(file.readline()) # the number of lines in the file after this one\n",
    "table = []\n",
    "for loop in range(0, times):\n",
    "    line = file.readline().strip()\n",
    "    # split according to spaces\n",
    "    listed = line.split(\" \")\n",
    "    while \"\" in listed:\n",
    "        listed.remove(\"\")\n",
    "    print(listed)\n",
    "    table.append(listed)"
   ]
  },
  {
   "cell_type": "code",
   "execution_count": 4,
   "id": "southeast-rover",
   "metadata": {},
   "outputs": [
    {
     "data": {
      "text/html": [
       "<div>\n",
       "<style scoped>\n",
       "    .dataframe tbody tr th:only-of-type {\n",
       "        vertical-align: middle;\n",
       "    }\n",
       "\n",
       "    .dataframe tbody tr th {\n",
       "        vertical-align: top;\n",
       "    }\n",
       "\n",
       "    .dataframe thead th {\n",
       "        text-align: right;\n",
       "    }\n",
       "</style>\n",
       "<table border=\"1\" class=\"dataframe\">\n",
       "  <thead>\n",
       "    <tr style=\"text-align: right;\">\n",
       "      <th></th>\n",
       "      <th>0</th>\n",
       "      <th>1</th>\n",
       "      <th>2</th>\n",
       "      <th>3</th>\n",
       "      <th>4</th>\n",
       "      <th>5</th>\n",
       "      <th>6</th>\n",
       "      <th>7</th>\n",
       "      <th>8</th>\n",
       "      <th>9</th>\n",
       "      <th>10</th>\n",
       "      <th>11</th>\n",
       "    </tr>\n",
       "  </thead>\n",
       "  <tbody>\n",
       "    <tr>\n",
       "      <th>0</th>\n",
       "      <td>Brown</td>\n",
       "      <td>44</td>\n",
       "      <td>51</td>\n",
       "      <td>9</td>\n",
       "      <td>0</td>\n",
       "      <td>0</td>\n",
       "      <td>0</td>\n",
       "      <td>0</td>\n",
       "      <td>0</td>\n",
       "      <td>0</td>\n",
       "      <td>0</td>\n",
       "      <td>9</td>\n",
       "    </tr>\n",
       "    <tr>\n",
       "      <th>1</th>\n",
       "      <td>Columbia</td>\n",
       "      <td>44</td>\n",
       "      <td>51</td>\n",
       "      <td>9</td>\n",
       "      <td>0</td>\n",
       "      <td>0</td>\n",
       "      <td>0</td>\n",
       "      <td>0</td>\n",
       "      <td>0</td>\n",
       "      <td>0</td>\n",
       "      <td>0</td>\n",
       "      <td>9</td>\n",
       "    </tr>\n",
       "    <tr>\n",
       "      <th>2</th>\n",
       "      <td>Cornell</td>\n",
       "      <td>44</td>\n",
       "      <td>51</td>\n",
       "      <td>9</td>\n",
       "      <td>0</td>\n",
       "      <td>0</td>\n",
       "      <td>0</td>\n",
       "      <td>0</td>\n",
       "      <td>0</td>\n",
       "      <td>0</td>\n",
       "      <td>0</td>\n",
       "      <td>9</td>\n",
       "    </tr>\n",
       "    <tr>\n",
       "      <th>3</th>\n",
       "      <td>Dartmouth</td>\n",
       "      <td>44</td>\n",
       "      <td>51</td>\n",
       "      <td>9</td>\n",
       "      <td>0</td>\n",
       "      <td>0</td>\n",
       "      <td>0</td>\n",
       "      <td>0</td>\n",
       "      <td>0</td>\n",
       "      <td>0</td>\n",
       "      <td>0</td>\n",
       "      <td>9</td>\n",
       "    </tr>\n",
       "    <tr>\n",
       "      <th>4</th>\n",
       "      <td>Penn</td>\n",
       "      <td>44</td>\n",
       "      <td>51</td>\n",
       "      <td>9</td>\n",
       "      <td>0</td>\n",
       "      <td>0</td>\n",
       "      <td>0</td>\n",
       "      <td>0</td>\n",
       "      <td>0</td>\n",
       "      <td>0</td>\n",
       "      <td>0</td>\n",
       "      <td>9</td>\n",
       "    </tr>\n",
       "    <tr>\n",
       "      <th>5</th>\n",
       "      <td>Harvard</td>\n",
       "      <td>43</td>\n",
       "      <td>60</td>\n",
       "      <td>1</td>\n",
       "      <td>0</td>\n",
       "      <td>0</td>\n",
       "      <td>0</td>\n",
       "      <td>0</td>\n",
       "      <td>0</td>\n",
       "      <td>0</td>\n",
       "      <td>1</td>\n",
       "      <td>0</td>\n",
       "    </tr>\n",
       "    <tr>\n",
       "      <th>6</th>\n",
       "      <td>Yale</td>\n",
       "      <td>43</td>\n",
       "      <td>60</td>\n",
       "      <td>1</td>\n",
       "      <td>0</td>\n",
       "      <td>0</td>\n",
       "      <td>0</td>\n",
       "      <td>0</td>\n",
       "      <td>0</td>\n",
       "      <td>1</td>\n",
       "      <td>0</td>\n",
       "      <td>0</td>\n",
       "    </tr>\n",
       "    <tr>\n",
       "      <th>7</th>\n",
       "      <td>Princeton</td>\n",
       "      <td>0</td>\n",
       "      <td>59</td>\n",
       "      <td>45</td>\n",
       "      <td>9</td>\n",
       "      <td>9</td>\n",
       "      <td>9</td>\n",
       "      <td>9</td>\n",
       "      <td>9</td>\n",
       "      <td>0</td>\n",
       "      <td>0</td>\n",
       "      <td>0</td>\n",
       "    </tr>\n",
       "  </tbody>\n",
       "</table>\n",
       "</div>"
      ],
      "text/plain": [
       "          0   1   2   3  4  5  6  7  8  9  10 11\n",
       "0      Brown  44  51   9  0  0  0  0  0  0  0  9\n",
       "1   Columbia  44  51   9  0  0  0  0  0  0  0  9\n",
       "2    Cornell  44  51   9  0  0  0  0  0  0  0  9\n",
       "3  Dartmouth  44  51   9  0  0  0  0  0  0  0  9\n",
       "4       Penn  44  51   9  0  0  0  0  0  0  0  9\n",
       "5    Harvard  43  60   1  0  0  0  0  0  0  1  0\n",
       "6       Yale  43  60   1  0  0  0  0  0  1  0  0\n",
       "7  Princeton   0  59  45  9  9  9  9  9  0  0  0"
      ]
     },
     "execution_count": 4,
     "metadata": {},
     "output_type": "execute_result"
    }
   ],
   "source": [
    "table = pd.DataFrame(table) \n",
    "table"
   ]
  },
  {
   "cell_type": "code",
   "execution_count": 5,
   "id": "sustained-wallet",
   "metadata": {},
   "outputs": [
    {
     "data": {
      "text/html": [
       "<div>\n",
       "<style scoped>\n",
       "    .dataframe tbody tr th:only-of-type {\n",
       "        vertical-align: middle;\n",
       "    }\n",
       "\n",
       "    .dataframe tbody tr th {\n",
       "        vertical-align: top;\n",
       "    }\n",
       "\n",
       "    .dataframe thead th {\n",
       "        text-align: right;\n",
       "    }\n",
       "</style>\n",
       "<table border=\"1\" class=\"dataframe\">\n",
       "  <thead>\n",
       "    <tr style=\"text-align: right;\">\n",
       "      <th></th>\n",
       "      <th>1</th>\n",
       "      <th>2</th>\n",
       "      <th>3</th>\n",
       "      <th>4</th>\n",
       "      <th>5</th>\n",
       "      <th>6</th>\n",
       "      <th>7</th>\n",
       "      <th>8</th>\n",
       "      <th>9</th>\n",
       "      <th>10</th>\n",
       "      <th>11</th>\n",
       "    </tr>\n",
       "  </thead>\n",
       "  <tbody>\n",
       "    <tr>\n",
       "      <th>Brown</th>\n",
       "      <td>44</td>\n",
       "      <td>51</td>\n",
       "      <td>9</td>\n",
       "      <td>0</td>\n",
       "      <td>0</td>\n",
       "      <td>0</td>\n",
       "      <td>0</td>\n",
       "      <td>0</td>\n",
       "      <td>0</td>\n",
       "      <td>0</td>\n",
       "      <td>9</td>\n",
       "    </tr>\n",
       "    <tr>\n",
       "      <th>Columbia</th>\n",
       "      <td>44</td>\n",
       "      <td>51</td>\n",
       "      <td>9</td>\n",
       "      <td>0</td>\n",
       "      <td>0</td>\n",
       "      <td>0</td>\n",
       "      <td>0</td>\n",
       "      <td>0</td>\n",
       "      <td>0</td>\n",
       "      <td>0</td>\n",
       "      <td>9</td>\n",
       "    </tr>\n",
       "    <tr>\n",
       "      <th>Cornell</th>\n",
       "      <td>44</td>\n",
       "      <td>51</td>\n",
       "      <td>9</td>\n",
       "      <td>0</td>\n",
       "      <td>0</td>\n",
       "      <td>0</td>\n",
       "      <td>0</td>\n",
       "      <td>0</td>\n",
       "      <td>0</td>\n",
       "      <td>0</td>\n",
       "      <td>9</td>\n",
       "    </tr>\n",
       "    <tr>\n",
       "      <th>Dartmouth</th>\n",
       "      <td>44</td>\n",
       "      <td>51</td>\n",
       "      <td>9</td>\n",
       "      <td>0</td>\n",
       "      <td>0</td>\n",
       "      <td>0</td>\n",
       "      <td>0</td>\n",
       "      <td>0</td>\n",
       "      <td>0</td>\n",
       "      <td>0</td>\n",
       "      <td>9</td>\n",
       "    </tr>\n",
       "    <tr>\n",
       "      <th>Penn</th>\n",
       "      <td>44</td>\n",
       "      <td>51</td>\n",
       "      <td>9</td>\n",
       "      <td>0</td>\n",
       "      <td>0</td>\n",
       "      <td>0</td>\n",
       "      <td>0</td>\n",
       "      <td>0</td>\n",
       "      <td>0</td>\n",
       "      <td>0</td>\n",
       "      <td>9</td>\n",
       "    </tr>\n",
       "    <tr>\n",
       "      <th>Harvard</th>\n",
       "      <td>43</td>\n",
       "      <td>60</td>\n",
       "      <td>1</td>\n",
       "      <td>0</td>\n",
       "      <td>0</td>\n",
       "      <td>0</td>\n",
       "      <td>0</td>\n",
       "      <td>0</td>\n",
       "      <td>0</td>\n",
       "      <td>1</td>\n",
       "      <td>0</td>\n",
       "    </tr>\n",
       "    <tr>\n",
       "      <th>Yale</th>\n",
       "      <td>43</td>\n",
       "      <td>60</td>\n",
       "      <td>1</td>\n",
       "      <td>0</td>\n",
       "      <td>0</td>\n",
       "      <td>0</td>\n",
       "      <td>0</td>\n",
       "      <td>0</td>\n",
       "      <td>1</td>\n",
       "      <td>0</td>\n",
       "      <td>0</td>\n",
       "    </tr>\n",
       "    <tr>\n",
       "      <th>Princeton</th>\n",
       "      <td>0</td>\n",
       "      <td>59</td>\n",
       "      <td>45</td>\n",
       "      <td>9</td>\n",
       "      <td>9</td>\n",
       "      <td>9</td>\n",
       "      <td>9</td>\n",
       "      <td>9</td>\n",
       "      <td>0</td>\n",
       "      <td>0</td>\n",
       "      <td>0</td>\n",
       "    </tr>\n",
       "  </tbody>\n",
       "</table>\n",
       "</div>"
      ],
      "text/plain": [
       "           1   2   3  4  5  6  7  8  9  10 11\n",
       "Brown      44  51   9  0  0  0  0  0  0  0  9\n",
       "Columbia   44  51   9  0  0  0  0  0  0  0  9\n",
       "Cornell    44  51   9  0  0  0  0  0  0  0  9\n",
       "Dartmouth  44  51   9  0  0  0  0  0  0  0  9\n",
       "Penn       44  51   9  0  0  0  0  0  0  0  9\n",
       "Harvard    43  60   1  0  0  0  0  0  0  1  0\n",
       "Yale       43  60   1  0  0  0  0  0  1  0  0\n",
       "Princeton   0  59  45  9  9  9  9  9  0  0  0"
      ]
     },
     "execution_count": 5,
     "metadata": {},
     "output_type": "execute_result"
    }
   ],
   "source": [
    "# rename the rows\n",
    "names = table.iloc[:,0].values\n",
    "names = names.astype(str)\n",
    "table.index = names\n",
    "table = table.drop(0, axis = 1) # remove redundancy\n",
    "table"
   ]
  },
  {
   "cell_type": "code",
   "execution_count": 6,
   "id": "proprietary-arbitration",
   "metadata": {},
   "outputs": [
    {
     "data": {
      "text/html": [
       "<div>\n",
       "<style scoped>\n",
       "    .dataframe tbody tr th:only-of-type {\n",
       "        vertical-align: middle;\n",
       "    }\n",
       "\n",
       "    .dataframe tbody tr th {\n",
       "        vertical-align: top;\n",
       "    }\n",
       "\n",
       "    .dataframe thead th {\n",
       "        text-align: right;\n",
       "    }\n",
       "</style>\n",
       "<table border=\"1\" class=\"dataframe\">\n",
       "  <thead>\n",
       "    <tr style=\"text-align: right;\">\n",
       "      <th></th>\n",
       "      <th>wins</th>\n",
       "      <th>losses</th>\n",
       "      <th>remaining</th>\n",
       "      <th>Brown</th>\n",
       "      <th>Columbia</th>\n",
       "      <th>Cornell</th>\n",
       "      <th>Dartmouth</th>\n",
       "      <th>Penn</th>\n",
       "      <th>Harvard</th>\n",
       "      <th>Yale</th>\n",
       "      <th>Princeton</th>\n",
       "    </tr>\n",
       "  </thead>\n",
       "  <tbody>\n",
       "    <tr>\n",
       "      <th>Brown</th>\n",
       "      <td>44</td>\n",
       "      <td>51</td>\n",
       "      <td>9</td>\n",
       "      <td>0</td>\n",
       "      <td>0</td>\n",
       "      <td>0</td>\n",
       "      <td>0</td>\n",
       "      <td>0</td>\n",
       "      <td>0</td>\n",
       "      <td>0</td>\n",
       "      <td>9</td>\n",
       "    </tr>\n",
       "    <tr>\n",
       "      <th>Columbia</th>\n",
       "      <td>44</td>\n",
       "      <td>51</td>\n",
       "      <td>9</td>\n",
       "      <td>0</td>\n",
       "      <td>0</td>\n",
       "      <td>0</td>\n",
       "      <td>0</td>\n",
       "      <td>0</td>\n",
       "      <td>0</td>\n",
       "      <td>0</td>\n",
       "      <td>9</td>\n",
       "    </tr>\n",
       "    <tr>\n",
       "      <th>Cornell</th>\n",
       "      <td>44</td>\n",
       "      <td>51</td>\n",
       "      <td>9</td>\n",
       "      <td>0</td>\n",
       "      <td>0</td>\n",
       "      <td>0</td>\n",
       "      <td>0</td>\n",
       "      <td>0</td>\n",
       "      <td>0</td>\n",
       "      <td>0</td>\n",
       "      <td>9</td>\n",
       "    </tr>\n",
       "    <tr>\n",
       "      <th>Dartmouth</th>\n",
       "      <td>44</td>\n",
       "      <td>51</td>\n",
       "      <td>9</td>\n",
       "      <td>0</td>\n",
       "      <td>0</td>\n",
       "      <td>0</td>\n",
       "      <td>0</td>\n",
       "      <td>0</td>\n",
       "      <td>0</td>\n",
       "      <td>0</td>\n",
       "      <td>9</td>\n",
       "    </tr>\n",
       "    <tr>\n",
       "      <th>Penn</th>\n",
       "      <td>44</td>\n",
       "      <td>51</td>\n",
       "      <td>9</td>\n",
       "      <td>0</td>\n",
       "      <td>0</td>\n",
       "      <td>0</td>\n",
       "      <td>0</td>\n",
       "      <td>0</td>\n",
       "      <td>0</td>\n",
       "      <td>0</td>\n",
       "      <td>9</td>\n",
       "    </tr>\n",
       "    <tr>\n",
       "      <th>Harvard</th>\n",
       "      <td>43</td>\n",
       "      <td>60</td>\n",
       "      <td>1</td>\n",
       "      <td>0</td>\n",
       "      <td>0</td>\n",
       "      <td>0</td>\n",
       "      <td>0</td>\n",
       "      <td>0</td>\n",
       "      <td>0</td>\n",
       "      <td>1</td>\n",
       "      <td>0</td>\n",
       "    </tr>\n",
       "    <tr>\n",
       "      <th>Yale</th>\n",
       "      <td>43</td>\n",
       "      <td>60</td>\n",
       "      <td>1</td>\n",
       "      <td>0</td>\n",
       "      <td>0</td>\n",
       "      <td>0</td>\n",
       "      <td>0</td>\n",
       "      <td>0</td>\n",
       "      <td>1</td>\n",
       "      <td>0</td>\n",
       "      <td>0</td>\n",
       "    </tr>\n",
       "    <tr>\n",
       "      <th>Princeton</th>\n",
       "      <td>0</td>\n",
       "      <td>59</td>\n",
       "      <td>45</td>\n",
       "      <td>9</td>\n",
       "      <td>9</td>\n",
       "      <td>9</td>\n",
       "      <td>9</td>\n",
       "      <td>9</td>\n",
       "      <td>0</td>\n",
       "      <td>0</td>\n",
       "      <td>0</td>\n",
       "    </tr>\n",
       "  </tbody>\n",
       "</table>\n",
       "</div>"
      ],
      "text/plain": [
       "          wins losses remaining Brown Columbia Cornell Dartmouth Penn Harvard  \\\n",
       "Brown       44     51         9     0        0       0         0    0       0   \n",
       "Columbia    44     51         9     0        0       0         0    0       0   \n",
       "Cornell     44     51         9     0        0       0         0    0       0   \n",
       "Dartmouth   44     51         9     0        0       0         0    0       0   \n",
       "Penn        44     51         9     0        0       0         0    0       0   \n",
       "Harvard     43     60         1     0        0       0         0    0       0   \n",
       "Yale        43     60         1     0        0       0         0    0       1   \n",
       "Princeton    0     59        45     9        9       9         9    9       0   \n",
       "\n",
       "          Yale Princeton  \n",
       "Brown        0         9  \n",
       "Columbia     0         9  \n",
       "Cornell      0         9  \n",
       "Dartmouth    0         9  \n",
       "Penn         0         9  \n",
       "Harvard      1         0  \n",
       "Yale         0         0  \n",
       "Princeton    0         0  "
      ]
     },
     "execution_count": 6,
     "metadata": {},
     "output_type": "execute_result"
    }
   ],
   "source": [
    "col_titles = ['wins', 'losses', 'remaining']\n",
    "col_titles.extend(names)\n",
    "col_titles\n",
    "table.columns = col_titles\n",
    "table"
   ]
  },
  {
   "cell_type": "code",
   "execution_count": 7,
   "id": "pretty-appreciation",
   "metadata": {},
   "outputs": [
    {
     "data": {
      "text/plain": [
       "wins         int64\n",
       "losses       int64\n",
       "remaining    int64\n",
       "Brown        int64\n",
       "Columbia     int64\n",
       "Cornell      int64\n",
       "Dartmouth    int64\n",
       "Penn         int64\n",
       "Harvard      int64\n",
       "Yale         int64\n",
       "Princeton    int64\n",
       "dtype: object"
      ]
     },
     "execution_count": 7,
     "metadata": {},
     "output_type": "execute_result"
    }
   ],
   "source": [
    "# change data types to numeric\n",
    "table.dtypes\n",
    "table = table.apply(pd.to_numeric)\n",
    "table.dtypes"
   ]
  },
  {
   "cell_type": "code",
   "execution_count": 8,
   "id": "stock-devon",
   "metadata": {},
   "outputs": [
    {
     "data": {
      "text/plain": [
       "{'Brown': False,\n",
       " 'Columbia': False,\n",
       " 'Cornell': False,\n",
       " 'Dartmouth': False,\n",
       " 'Penn': False,\n",
       " 'Harvard': False,\n",
       " 'Yale': False,\n",
       " 'Princeton': False}"
      ]
     },
     "execution_count": 8,
     "metadata": {},
     "output_type": "execute_result"
    }
   ],
   "source": [
    "# make dictionary to hold the eliminations\n",
    "f = list(np.repeat(False, times))\n",
    "inds = list(table.index)\n",
    "eliminated = dict(zip(inds, f))\n",
    "eliminated"
   ]
  },
  {
   "cell_type": "code",
   "execution_count": 23,
   "id": "personal-surface",
   "metadata": {},
   "outputs": [
    {
     "name": "stdout",
     "output_type": "stream",
     "text": [
      "Making graph for: Brown\n"
     ]
    }
   ],
   "source": [
    "org = \"Brown\"\n",
    "interest = list(table.index)\n",
    "interest.remove(org)\n",
    "# make one graph per organization\n",
    "print(\"Making graph for: \" + org)\n",
    "g = nx.DiGraph()\n",
    "g.add_nodes_from(interest)"
   ]
  },
  {
   "cell_type": "code",
   "execution_count": 24,
   "id": "wrong-mailman",
   "metadata": {},
   "outputs": [
    {
     "data": {
      "text/plain": [
       "NodeView(('Columbia', 'Cornell', 'Dartmouth', 'Penn', 'Harvard', 'Yale', 'Princeton'))"
      ]
     },
     "execution_count": 24,
     "metadata": {},
     "output_type": "execute_result"
    }
   ],
   "source": [
    "g.nodes"
   ]
  },
  {
   "cell_type": "code",
   "execution_count": 25,
   "id": "natural-brisbane",
   "metadata": {},
   "outputs": [
    {
     "data": {
      "text/plain": [
       "[('Columbia', 'Cornell'),\n",
       " ('Columbia', 'Dartmouth'),\n",
       " ('Columbia', 'Penn'),\n",
       " ('Columbia', 'Harvard'),\n",
       " ('Columbia', 'Yale'),\n",
       " ('Columbia', 'Princeton'),\n",
       " ('Cornell', 'Dartmouth'),\n",
       " ('Cornell', 'Penn'),\n",
       " ('Cornell', 'Harvard'),\n",
       " ('Cornell', 'Yale'),\n",
       " ('Cornell', 'Princeton'),\n",
       " ('Dartmouth', 'Penn'),\n",
       " ('Dartmouth', 'Harvard'),\n",
       " ('Dartmouth', 'Yale'),\n",
       " ('Dartmouth', 'Princeton'),\n",
       " ('Penn', 'Harvard'),\n",
       " ('Penn', 'Yale'),\n",
       " ('Penn', 'Princeton'),\n",
       " ('Harvard', 'Yale'),\n",
       " ('Harvard', 'Princeton'),\n",
       " ('Yale', 'Princeton')]"
      ]
     },
     "execution_count": 25,
     "metadata": {},
     "output_type": "execute_result"
    }
   ],
   "source": [
    "# add all 2-way game combinations\n",
    "combs = list(combinations(list(g.nodes), 2))\n",
    "combs"
   ]
  },
  {
   "cell_type": "code",
   "execution_count": 26,
   "id": "surgical-motor",
   "metadata": {},
   "outputs": [
    {
     "data": {
      "text/plain": [
       "NodeView(('Columbia', 'Cornell', 'Dartmouth', 'Penn', 'Harvard', 'Yale', 'Princeton', ('Columbia', 'Cornell'), ('Columbia', 'Dartmouth'), ('Columbia', 'Penn'), ('Columbia', 'Harvard'), ('Columbia', 'Yale'), ('Columbia', 'Princeton'), ('Cornell', 'Dartmouth'), ('Cornell', 'Penn'), ('Cornell', 'Harvard'), ('Cornell', 'Yale'), ('Cornell', 'Princeton'), ('Dartmouth', 'Penn'), ('Dartmouth', 'Harvard'), ('Dartmouth', 'Yale'), ('Dartmouth', 'Princeton'), ('Penn', 'Harvard'), ('Penn', 'Yale'), ('Penn', 'Princeton'), ('Harvard', 'Yale'), ('Harvard', 'Princeton'), ('Yale', 'Princeton')))"
      ]
     },
     "execution_count": 26,
     "metadata": {},
     "output_type": "execute_result"
    }
   ],
   "source": [
    "g.add_nodes_from(combs)\n",
    "g.nodes"
   ]
  },
  {
   "cell_type": "code",
   "execution_count": 28,
   "id": "crucial-crystal",
   "metadata": {},
   "outputs": [
    {
     "data": {
      "text/plain": [
       "NodeView(('Columbia', 'Cornell', 'Dartmouth', 'Penn', 'Harvard', 'Yale', 'Princeton', ('Columbia', 'Cornell'), ('Columbia', 'Dartmouth'), ('Columbia', 'Penn'), ('Columbia', 'Harvard'), ('Columbia', 'Yale'), ('Columbia', 'Princeton'), ('Cornell', 'Dartmouth'), ('Cornell', 'Penn'), ('Cornell', 'Harvard'), ('Cornell', 'Yale'), ('Cornell', 'Princeton'), ('Dartmouth', 'Penn'), ('Dartmouth', 'Harvard'), ('Dartmouth', 'Yale'), ('Dartmouth', 'Princeton'), ('Penn', 'Harvard'), ('Penn', 'Yale'), ('Penn', 'Princeton'), ('Harvard', 'Yale'), ('Harvard', 'Princeton'), ('Yale', 'Princeton'), 's', 't'))"
      ]
     },
     "execution_count": 28,
     "metadata": {},
     "output_type": "execute_result"
    }
   ],
   "source": [
    "g.add_node(\"s\")\n",
    "g.add_node(\"t\")\n",
    "g.nodes"
   ]
  },
  {
   "cell_type": "code",
   "execution_count": 64,
   "id": "boring-switch",
   "metadata": {},
   "outputs": [
    {
     "name": "stdout",
     "output_type": "stream",
     "text": [
      "Columbia\n",
      "in game\n",
      "in game\n",
      "in game\n",
      "in game\n",
      "in game\n",
      "in game\n",
      "Cornell\n",
      "in game\n",
      "in game\n",
      "in game\n",
      "in game\n",
      "in game\n",
      "in game\n",
      "Dartmouth\n",
      "in game\n",
      "in game\n",
      "in game\n",
      "in game\n",
      "in game\n",
      "in game\n",
      "Penn\n",
      "in game\n",
      "in game\n",
      "in game\n",
      "in game\n",
      "in game\n",
      "in game\n",
      "Harvard\n",
      "in game\n",
      "in game\n",
      "in game\n",
      "in game\n",
      "in game\n",
      "in game\n",
      "Yale\n",
      "in game\n",
      "in game\n",
      "in game\n",
      "in game\n",
      "in game\n",
      "in game\n",
      "Princeton\n",
      "in game\n",
      "in game\n",
      "in game\n",
      "in game\n",
      "in game\n",
      "in game\n"
     ]
    }
   ],
   "source": [
    "# add edges from start -> game -> team -> end\n",
    "# for org_ in interest:\n",
    "for org_ in interest:\n",
    "    print(str(org_))\n",
    "    for game in combs:\n",
    "        if org_ in game:\n",
    "            org1, org2 = game  # unpack tuple\n",
    "            print(\"in game\")\n",
    "            # add edges\n",
    "            g.add_edge(\"s\", game, capacity=table[org1][org2])  # number of games edge\n",
    "            g.add_edge(game, org1)  # unweighted wins paths\n",
    "            g.add_edge(game, org2)\n",
    "            # output path\n",
    "            g.add_edge(org1, \"t\", capacity=(table[\"wins\"][org] + table[\"remaining\"][org] - table[\"wins\"][org1]))\n",
    "            g.add_edge(org2, \"t\", capacity=(table[\"wins\"][org] + table[\"remaining\"][org] - table[\"wins\"][org2]))"
   ]
  },
  {
   "cell_type": "code",
   "execution_count": 148,
   "id": "consistent-costume",
   "metadata": {},
   "outputs": [
    {
     "data": {
      "text/plain": [
       "OutEdgeDataView([('s', ('Columbia', 'Cornell')), ('s', ('Columbia', 'Dartmouth')), ('s', ('Columbia', 'Penn')), ('s', ('Columbia', 'Harvard')), ('s', ('Columbia', 'Yale')), ('s', ('Columbia', 'Princeton')), ('s', ('Cornell', 'Dartmouth')), ('s', ('Cornell', 'Penn')), ('s', ('Cornell', 'Harvard')), ('s', ('Cornell', 'Yale')), ('s', ('Cornell', 'Princeton')), ('s', ('Dartmouth', 'Penn')), ('s', ('Dartmouth', 'Harvard')), ('s', ('Dartmouth', 'Yale')), ('s', ('Dartmouth', 'Princeton')), ('s', ('Penn', 'Harvard')), ('s', ('Penn', 'Yale')), ('s', ('Penn', 'Princeton')), ('s', ('Harvard', 'Yale')), ('s', ('Harvard', 'Princeton')), ('s', ('Yale', 'Princeton'))])"
      ]
     },
     "execution_count": 148,
     "metadata": {},
     "output_type": "execute_result"
    }
   ],
   "source": [
    "res = nx.maximum_flow(g, 's', 't')\n",
    "g.degree(weight='weight')['s']\n",
    "g.degree()\n",
    "e = g.edges\n",
    "e.data()\n",
    "# g.out_edges('s')"
   ]
  },
  {
   "cell_type": "code",
   "execution_count": 114,
   "id": "listed-plate",
   "metadata": {},
   "outputs": [
    {
     "data": {
      "text/plain": [
       "83"
      ]
     },
     "execution_count": 114,
     "metadata": {},
     "output_type": "execute_result"
    }
   ],
   "source": []
  },
  {
   "cell_type": "code",
   "execution_count": 189,
   "id": "pleased-money",
   "metadata": {},
   "outputs": [
    {
     "data": {
      "text/plain": [
       "8"
      ]
     },
     "execution_count": 189,
     "metadata": {},
     "output_type": "execute_result"
    }
   ],
   "source": [
    "len(table.index)"
   ]
  },
  {
   "cell_type": "code",
   "execution_count": 96,
   "id": "equipped-preview",
   "metadata": {},
   "outputs": [
    {
     "data": {
      "text/plain": [
       "['Columbia', 'Cornell', 'Dartmouth', 'Penn', 'Harvard', 'Yale', 'Princeton']"
      ]
     },
     "execution_count": 96,
     "metadata": {},
     "output_type": "execute_result"
    }
   ],
   "source": [
    "interest"
   ]
  },
  {
   "cell_type": "code",
   "execution_count": 98,
   "id": "ecological-warner",
   "metadata": {},
   "outputs": [
    {
     "data": {
      "text/plain": [
       "44"
      ]
     },
     "execution_count": 98,
     "metadata": {},
     "output_type": "execute_result"
    }
   ],
   "source": []
  },
  {
   "cell_type": "code",
   "execution_count": null,
   "id": "sonic-summit",
   "metadata": {},
   "outputs": [],
   "source": []
  }
 ],
 "metadata": {
  "kernelspec": {
   "display_name": "Python 3",
   "language": "python",
   "name": "python3"
  },
  "language_info": {
   "codemirror_mode": {
    "name": "ipython",
    "version": 3
   },
   "file_extension": ".py",
   "mimetype": "text/x-python",
   "name": "python",
   "nbconvert_exporter": "python",
   "pygments_lexer": "ipython3",
   "version": "3.8.5"
  }
 },
 "nbformat": 4,
 "nbformat_minor": 5
}
