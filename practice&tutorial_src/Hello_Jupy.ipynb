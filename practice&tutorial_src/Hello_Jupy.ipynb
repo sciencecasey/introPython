{
 "cells": [
  {
   "cell_type": "code",
   "execution_count": 2,
   "id": "spanish-century",
   "metadata": {},
   "outputs": [
    {
     "name": "stdout",
     "output_type": "stream",
     "text": [
      "hello jupy\n"
     ]
    }
   ],
   "source": [
    "print(\"hello jupy\")"
   ]
  },
  {
   "cell_type": "markdown",
   "id": "stainless-lying",
   "metadata": {},
   "source": [
    "This is a markdown block of code\n",
    "* which you can see this way\n",
    "* and this way\n",
    "__way__ *way*"
   ]
  },
  {
   "cell_type": "code",
   "execution_count": null,
   "id": "taken-death",
   "metadata": {},
   "outputs": [],
   "source": []
  }
 ],
 "metadata": {
  "kernelspec": {
   "display_name": "Python 3",
   "language": "python",
   "name": "python3"
  },
  "language_info": {
   "codemirror_mode": {
    "name": "ipython",
    "version": 3
   },
   "file_extension": ".py",
   "mimetype": "text/x-python",
   "name": "python",
   "nbconvert_exporter": "python",
   "pygments_lexer": "ipython3",
   "version": "3.8.5"
  }
 },
 "nbformat": 4,
 "nbformat_minor": 5
}
